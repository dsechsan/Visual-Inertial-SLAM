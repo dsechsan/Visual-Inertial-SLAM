{
 "cells": [
  {
   "cell_type": "code",
   "execution_count": 59,
   "metadata": {},
   "outputs": [],
   "source": [
    "import numpy as np\n",
    "from pr3_utils import *\n",
    "from scipy.linalg import expm\n",
    "from tqdm import tqdm"
   ]
  },
  {
   "cell_type": "code",
   "execution_count": 60,
   "metadata": {},
   "outputs": [],
   "source": [
    "filename = \"../data/03.npz\"\n",
    "t,features,linear_velocity,angular_velocity,K,b,imu_T_cam = load_data(filename)\n",
    "t = np.squeeze(t)\n",
    "\n",
    "Pose = np.zeros([3026,4,4]) # mu_t\n",
    "Pose[:,0,0], Pose[:,1,1], Pose[:,2,2], Pose[:,3,3] = 1, 1, 1, 1\n",
    "\n",
    "# PoseVar = np.diag([1e-1,1e-1,1e-1,1e-3,1e-3,1e-3])\n",
    "PoseVar = np.eye(6)\n",
    "PoseVar = np.repeat(PoseVar[np.newaxis,:,:], 3026, axis=0) #del_mu\n",
    "\n",
    "NoiseCoVar = (1e-2)*np.identity(6) # W\n",
    "\n",
    "tau = t - np.append(t[0],t[0:-1])\n",
    "ut = np.vstack((linear_velocity,angular_velocity)).T\n",
    "twist_t = axangle2twist(ut) # twist at time t\n",
    "pose_increment = tau[:,np.newaxis,np.newaxis]*twist_t #Tau*ut(hat)\n",
    "pose_increment = pose_increment.astype(np.double)\n"
   ]
  },
  {
   "cell_type": "code",
   "execution_count": 107,
   "metadata": {},
   "outputs": [
    {
     "data": {
      "text/plain": [
       "array([ 0.55, -0.02, -0.05, -0.02, -0.02,  0.01])"
      ]
     },
     "execution_count": 107,
     "metadata": {},
     "output_type": "execute_result"
    }
   ],
   "source": [
    "ut[2]"
   ]
  },
  {
   "cell_type": "code",
   "execution_count": 29,
   "metadata": {},
   "outputs": [
    {
     "ename": "ValueError",
     "evalue": "operands could not be broadcast together with shapes (3026,) (3026,4,4) ",
     "output_type": "error",
     "traceback": [
      "\u001b[0;31m---------------------------------------------------------------------------\u001b[0m",
      "\u001b[0;31mValueError\u001b[0m                                Traceback (most recent call last)",
      "\u001b[1;32m/Users/dsechs/Desktop/ECE276A/ECE276A_PR3/code/PR3.ipynb Cell 3\u001b[0m in \u001b[0;36m1\n\u001b[0;32m----> <a href='vscode-notebook-cell:/Users/dsechs/Desktop/ECE276A/ECE276A_PR3/code/PR3.ipynb#X55sZmlsZQ%3D%3D?line=0'>1</a>\u001b[0m tau\u001b[39m*\u001b[39mtwist_t\n",
      "\u001b[0;31mValueError\u001b[0m: operands could not be broadcast together with shapes (3026,) (3026,4,4) "
     ]
    }
   ],
   "source": [
    "tau*twist_t"
   ]
  },
  {
   "cell_type": "code",
   "execution_count": 89,
   "metadata": {},
   "outputs": [
    {
     "data": {
      "text/plain": [
       "(6,)"
      ]
     },
     "execution_count": 89,
     "metadata": {},
     "output_type": "execute_result"
    }
   ],
   "source": [
    "sd = -tau[:,None]*ut\n",
    "sd[0].shape"
   ]
  },
  {
   "cell_type": "code",
   "execution_count": 108,
   "metadata": {},
   "outputs": [
    {
     "name": "stdout",
     "output_type": "stream",
     "text": [
      "[[ 1.00e+00 -1.15e-03  1.14e-03  0.00e+00 -2.78e-03 -9.74e-04]\n",
      " [ 1.15e-03  1.00e+00 -3.94e-04  2.78e-03  0.00e+00  5.22e-02]\n",
      " [-1.14e-03  3.95e-04  1.00e+00  9.74e-04 -5.22e-02  0.00e+00]\n",
      " [ 0.00e+00  0.00e+00  0.00e+00  1.00e+00 -1.15e-03  1.14e-03]\n",
      " [ 0.00e+00  0.00e+00  0.00e+00  1.15e-03  1.00e+00 -3.94e-04]\n",
      " [ 0.00e+00  0.00e+00  0.00e+00 -1.14e-03  3.95e-04  1.00e+00]]\n",
      "[ 0.5   0.01 -0.03 -0.   -0.01 -0.01]\n",
      "[[ 1.00e+00  6.03e-04  1.83e-03  0.00e+00 -4.80e-03  1.71e-03]\n",
      " [-6.00e-04  1.00e+00 -1.64e-03  4.80e-03  0.00e+00  5.80e-02]\n",
      " [-1.83e-03  1.64e-03  1.00e+00 -1.71e-03 -5.80e-02  0.00e+00]\n",
      " [ 0.00e+00  0.00e+00  0.00e+00  1.00e+00  6.03e-04  1.83e-03]\n",
      " [ 0.00e+00  0.00e+00  0.00e+00 -6.00e-04  1.00e+00 -1.64e-03]\n",
      " [ 0.00e+00  0.00e+00  0.00e+00 -1.83e-03  1.64e-03  1.00e+00]]\n",
      "[ 0.55 -0.02 -0.05 -0.02 -0.02  0.01]\n",
      "[[ 1.00e+00  2.15e-04  9.34e-04  0.00e+00 -2.42e-03  6.01e-04]\n",
      " [-2.14e-04  1.00e+00 -1.00e-03  2.42e-03  0.00e+00  6.55e-02]\n",
      " [-9.34e-04  1.00e-03  1.00e+00 -6.01e-04 -6.55e-02  0.00e+00]\n",
      " [ 0.00e+00  0.00e+00  0.00e+00  1.00e+00  2.15e-04  9.34e-04]\n",
      " [ 0.00e+00  0.00e+00  0.00e+00 -2.14e-04  1.00e+00 -1.00e-03]\n",
      " [ 0.00e+00  0.00e+00  0.00e+00 -9.34e-04  1.00e-03  1.00e+00]]\n",
      "[ 0.63 -0.01 -0.02 -0.01 -0.01  0.  ]\n",
      "[[ 1.00e+00  2.81e-03  2.18e-03  0.00e+00 -6.82e-03 -8.28e-04]\n",
      " [-2.81e-03  1.00e+00 -5.96e-04  6.82e-03  0.00e+00  7.61e-02]\n",
      " [-2.18e-03  5.90e-04  1.00e+00  8.28e-04 -7.61e-02  0.00e+00]\n",
      " [ 0.00e+00  0.00e+00  0.00e+00  1.00e+00  2.81e-03  2.18e-03]\n",
      " [ 0.00e+00  0.00e+00  0.00e+00 -2.81e-03  1.00e+00 -5.96e-04]\n",
      " [ 0.00e+00  0.00e+00  0.00e+00 -2.18e-03  5.90e-04  1.00e+00]]\n",
      "[ 0.73  0.01 -0.06 -0.01 -0.02  0.03]\n"
     ]
    }
   ],
   "source": [
    "for i in range(1,5):\n",
    "    Pose[i] = Pose[i-1]@expm(pose_increment[i])\n",
    "    F = pose2adpose(axangle2pose(sd[i])) \n",
    "    print(F)\n",
    "    print(ut[i])\n",
    "    PoseVar[i] = pose2adpose(axangle2pose(sd[i]))@PoseVar[i-1]@pose2adpose(axangle2pose(sd[i])).T #+ NoiseCoVar"
   ]
  },
  {
   "cell_type": "code",
   "execution_count": 100,
   "metadata": {},
   "outputs": [
    {
     "name": "stdout",
     "output_type": "stream",
     "text": [
      "[[ 1.00e+00  1.22e-02 -4.46e-04  0.00e+00 -1.06e-02 -2.45e-03]\n",
      " [-1.22e-02  1.00e+00  3.91e-04  1.06e-02  0.00e+00  1.75e-01]\n",
      " [ 4.51e-04 -3.85e-04  1.00e+00  2.45e-03 -1.75e-01  0.00e+00]\n",
      " [ 0.00e+00  0.00e+00  0.00e+00  1.00e+00  1.22e-02 -4.46e-04]\n",
      " [ 0.00e+00  0.00e+00  0.00e+00 -1.22e-02  1.00e+00  3.91e-04]\n",
      " [ 0.00e+00  0.00e+00  0.00e+00  4.51e-04 -3.85e-04  1.00e+00]]\n"
     ]
    }
   ],
   "source": [
    "print(F)"
   ]
  },
  {
   "cell_type": "code",
   "execution_count": 51,
   "metadata": {},
   "outputs": [
    {
     "data": {
      "text/plain": [
       "-1173.1030693885973"
      ]
     },
     "execution_count": 51,
     "metadata": {},
     "output_type": "execute_result"
    }
   ],
   "source": [
    "np.min(PoseVar)"
   ]
  },
  {
   "cell_type": "code",
   "execution_count": 119,
   "metadata": {},
   "outputs": [
    {
     "data": {
      "text/plain": [
       "895964.1952620312"
      ]
     },
     "execution_count": 119,
     "metadata": {},
     "output_type": "execute_result"
    }
   ],
   "source": [
    "np.max(PoseVar)"
   ]
  },
  {
   "cell_type": "code",
   "execution_count": 163,
   "metadata": {},
   "outputs": [
    {
     "data": {
      "image/png": "[encoded data removed]",
      "text/plain": [
       "<Figure size 500x500 with 1 Axes>"
      ]
     },
     "metadata": {},
     "output_type": "display_data"
    },
    {
     "data": {
      "text/plain": [
       "(<Figure size 500x500 with 1 Axes>, <AxesSubplot: xlabel='x', ylabel='y'>)"
      ]
     },
     "execution_count": 163,
     "metadata": {},
     "output_type": "execute_result"
    }
   ],
   "source": [
    "visualize_trajectory_2d(np.moveaxis(Pose[:1008],0,-1),show_ori=True)"
   ]
  },
  {
   "cell_type": "code",
   "execution_count": 5,
   "metadata": {},
   "outputs": [],
   "source": [
    "Ks = np.zeros([4,4])\n",
    "Ks[0:2,0:3] = K[0:2]\n",
    "Ks[2,0:3] = K[0]\n",
    "Ks[2,3] = -K[0,0]*b\n",
    "Ks[3,0:3] = K[1]\n",
    "\n",
    "cu,cv= Ks[0,2],Ks[1,2]\n",
    "fsu,fsv = Ks[0,0],Ks[1,1]\n",
    "\n",
    "def initialLandmarks(obs):\n",
    "    uL,uR,vL,vR = obs[0],obs[1],obs[2],obs[3]\n",
    "    z = fsu*b/(uL-vL)\n",
    "    x = (uL-cu)*z/fsu\n",
    "    y = (uR-cv)*z/fsv\n",
    "    return np.stack((x,y,z,np.ones(x.shape)))"
   ]
  },
  {
   "cell_type": "code",
   "execution_count": 6,
   "metadata": {},
   "outputs": [],
   "source": [
    "P = np.zeros([3,4])\n",
    "P[:3,:3] = np.eye(3)\n",
    "# sig = np.reshape(np.delete(map,3,axis=1),[13289*3,1])\n",
    "# sig = np.cov(sig)"
   ]
  },
  {
   "cell_type": "code",
   "execution_count": 24,
   "metadata": {},
   "outputs": [
    {
     "name": "stderr",
     "output_type": "stream",
     "text": [
      "100%|██████████████████████████████████████| 3026/3026 [00:07<00:00, 431.18it/s]\n"
     ]
    }
   ],
   "source": [
    "features20 = features[:,::20,:]\n",
    "M = features20.shape[1]\n",
    "mapDR = np.zeros([M,4])\n",
    "map_vec = np.reshape(np.delete(mapDR,3,axis=1),[3*M,1])\n",
    "zt = []\n",
    "for t in tqdm(range(3026)):\n",
    "    zt.append(np.squeeze(np.where(features20[0,:,t] != -1)))\n",
    "    if(t==0):\n",
    "        mcam = initialLandmarks(np.squeeze(features20[:,zt[0],0]))\n",
    "        # map[zt[0]] = ((Pose[0]@inversePose(imu_T_cam)@mcam).T)\n",
    "        mapDR[zt[0]] = ((Pose[0]@(imu_T_cam)@mcam).T)\n",
    "        sig = 2*np.eye(M*3)\n",
    "        continue\n",
    "\n",
    "    new_ele = np.setdiff1d(zt[t],zt[t-1])\n",
    "    # inter_ele = np.intersect1d(zt[t],zt[t-1])\n",
    "    mcam = initialLandmarks(np.squeeze(features20[:,new_ele,t]))\n",
    "    mapDR[new_ele] = ((Pose[t]@(imu_T_cam)@mcam).T)\n",
    "    \n",
    "    #Innovation\n",
    "    obs1 = (Ks@(projection(((inversePose(imu_T_cam)@inversePose(Pose[t]))@(mapDR[zt[t]].T)).T).T))\n",
    "    innovation = np.squeeze(features20[:,zt[t],t]) - obs1\n",
    "    # print(innovation)\n",
    "    Nt = np.size(zt[t])\n",
    "    if(Nt == 1):\n",
    "        continue\n",
    "    # print(innovation)\n",
    "    #Jacobian\n",
    "    H = np.zeros([4*Nt,3*M])\n",
    "    for i in range(Nt):\n",
    "        index = zt[t][i]\n",
    "        H[i*4:i*4+4,index*3:index*3+3] = Ks@projectionJacobian(inversePose(imu_T_cam)@inversePose(Pose[t])@(mapDR[zt[t][i]]))@inversePose(imu_T_cam)@inversePose(Pose[t])@(P.T)\n",
    "    V = np.eye(4*Nt)*3\n",
    "\n",
    "    #Update Step\n",
    "    map_vec = np.reshape(mapDR[:,:-1], [3*M, 1])\n",
    "    KalmanGain = sig@H.T@(np.linalg.inv(H@sig@H.T+V))\n",
    "    sig = (np.eye(3*M) - KalmanGain@H)@sig\n",
    "    map_vec = map_vec + np.einsum('ij,jk->ik', KalmanGain, np.reshape(innovation,[KalmanGain.shape[1],1]))\n",
    "    mapDR[:,:-1] = np.reshape(map_vec, [M,3])\n",
    "\n",
    "    "
   ]
  },
  {
   "cell_type": "code",
   "execution_count": 25,
   "metadata": {},
   "outputs": [
    {
     "data": {
      "text/plain": [
       "(-800.0, 800.0)"
      ]
     },
     "execution_count": 25,
     "metadata": {},
     "output_type": "execute_result"
    },
    {
     "data": {
      "image/png": "[encoded data removed]",
      "text/plain": [
       "<Figure size 640x480 with 1 Axes>"
      ]
     },
     "metadata": {},
     "output_type": "display_data"
    }
   ],
   "source": [
    "plt.scatter(mapDR[:,0],mapDR[:,1],marker='.',color='royalblue')\n",
    "plt.plot(Pose[:,0,3],Pose[:,1,3],color='red')\n",
    "plt.xlim([-1200,500])\n",
    "plt.ylim([-800,800])\n",
    "# plt.xlim([-1100,400])\n",
    "# plt.ylim([-500,300])"
   ]
  },
  {
   "attachments": {},
   "cell_type": "markdown",
   "metadata": {},
   "source": [
    "### SLAM\n",
    "\n",
    "Steps: \n",
    "1. Prediction:\n",
    "    Part a; Modify the noise?\n",
    "2. Update:\n",
    "Use the predicted mean and variance as inputs to the update step\n",
    "Calculate the Jacobian H wrt T i.e., $$\\in$$ R (4N+1)*6\n",
    "Use the Jacobian to compute Kalman Gain and then the others"
   ]
  },
  {
   "cell_type": "code",
   "execution_count": 7,
   "metadata": {},
   "outputs": [],
   "source": [
    "def circleDot(mulm):\n",
    "    out = np.zeros([4,6])\n",
    "    out[:3,:3] = np.eye(3)\n",
    "    out[:3,3:] = -axangle2skew(mulm[:3].T)\n",
    "    return out"
   ]
  },
  {
   "cell_type": "code",
   "execution_count": 74,
   "metadata": {},
   "outputs": [
    {
     "data": {
      "text/plain": [
       "(4, 5105, 1010)"
      ]
     },
     "execution_count": 74,
     "metadata": {},
     "output_type": "execute_result"
    }
   ],
   "source": [
    "features.shape"
   ]
  },
  {
   "cell_type": "code",
   "execution_count": 79,
   "metadata": {},
   "outputs": [
    {
     "data": {
      "text/plain": [
       "array([[164.79656982, 386.97143555, 641.29541016,  -1.        ,\n",
       "         -1.        ],\n",
       "       [ 31.38160515,  68.19519806, 272.61734009,  -1.        ,\n",
       "         -1.        ],\n",
       "       [155.08753967, 377.86401367, 608.78735352,  -1.        ,\n",
       "         -1.        ],\n",
       "       [ 31.67667389,  68.04985809, 272.41320801,  -1.        ,\n",
       "         -1.        ]])"
      ]
     },
     "execution_count": 79,
     "metadata": {},
     "output_type": "execute_result"
    }
   ],
   "source": [
    "featur20 = features[:,::20,:]\n",
    "featur20[:,:5,0]"
   ]
  },
  {
   "cell_type": "code",
   "execution_count": 146,
   "metadata": {},
   "outputs": [
    {
     "name": "stdout",
     "output_type": "stream",
     "text": [
      "0\n"
     ]
    },
    {
     "ename": "TypeError",
     "evalue": "unhashable type: 'numpy.ndarray'",
     "output_type": "error",
     "traceback": [
      "\u001b[0;31m---------------------------------------------------------------------------\u001b[0m",
      "\u001b[0;31mTypeError\u001b[0m                                 Traceback (most recent call last)",
      "\u001b[1;32m/Users/dsechs/Desktop/ECE276A/ECE276A_PR3/code/PR3.ipynb Cell 19\u001b[0m in \u001b[0;36m2\n\u001b[1;32m     <a href='vscode-notebook-cell:/Users/dsechs/Desktop/ECE276A/ECE276A_PR3/code/PR3.ipynb#X13sZmlsZQ%3D%3D?line=18'>19</a>\u001b[0m zt \u001b[39m=\u001b[39m \u001b[39mset\u001b[39m()\n\u001b[1;32m     <a href='vscode-notebook-cell:/Users/dsechs/Desktop/ECE276A/ECE276A_PR3/code/PR3.ipynb#X13sZmlsZQ%3D%3D?line=19'>20</a>\u001b[0m \u001b[39mprint\u001b[39m(np\u001b[39m.\u001b[39msqueeze(np\u001b[39m.\u001b[39mwhere(features20[\u001b[39m0\u001b[39m,:,\u001b[39m0\u001b[39m] \u001b[39m!=\u001b[39m \u001b[39m-\u001b[39m\u001b[39m1\u001b[39m))[\u001b[39m0\u001b[39m])\n\u001b[0;32m---> <a href='vscode-notebook-cell:/Users/dsechs/Desktop/ECE276A/ECE276A_PR3/code/PR3.ipynb#X13sZmlsZQ%3D%3D?line=20'>21</a>\u001b[0m zt\u001b[39m.\u001b[39madd(np\u001b[39m.\u001b[39msqueeze(np\u001b[39m.\u001b[39mwhere(features20[\u001b[39m0\u001b[39m,:,\u001b[39m0\u001b[39m] \u001b[39m!=\u001b[39m \u001b[39m-\u001b[39m\u001b[39m1\u001b[39m)))\n\u001b[1;32m     <a href='vscode-notebook-cell:/Users/dsechs/Desktop/ECE276A/ECE276A_PR3/code/PR3.ipynb#X13sZmlsZQ%3D%3D?line=21'>22</a>\u001b[0m mcam \u001b[39m=\u001b[39m initialLandmarks(np\u001b[39m.\u001b[39msqueeze(features20[:,zt[\u001b[39m0\u001b[39m],\u001b[39m0\u001b[39m]))\n\u001b[1;32m     <a href='vscode-notebook-cell:/Users/dsechs/Desktop/ECE276A/ECE276A_PR3/code/PR3.ipynb#X13sZmlsZQ%3D%3D?line=22'>23</a>\u001b[0m mcam \u001b[39m=\u001b[39m mcam\u001b[39m.\u001b[39mastype(np\u001b[39m.\u001b[39mdouble)\n",
      "\u001b[0;31mTypeError\u001b[0m: unhashable type: 'numpy.ndarray'"
     ]
    }
   ],
   "source": [
    "features20 = features[:,::20,:]\n",
    "M = features20.shape[1]\n",
    "\n",
    "PoseSL = np.zeros([3026,4,4],dtype=np.double)\n",
    "PoseSL[0] = np.eye(4)\n",
    "\n",
    "# PoseVarSL = np.diag([0.05,0.05,0.05,0.05,0.05,0.05])\n",
    "PoseVarSL = 0.5*np.eye(6,dtype=np.double)\n",
    "PoseVarSL = np.repeat(PoseVarSL[np.newaxis,:,:], 3026, axis=0) \n",
    "NoiseSL = (1e-3)*np.eye(6) # W\n",
    "# NoiseSL = np.diag([1,1,1,1e-1,1e-1,1e-1])\n",
    "NoiseSL = NoiseSL.astype(np.double)\n",
    "\n",
    "SigmaSL = 2*np.eye(3*M + 6,dtype=np.double)\n",
    "map = np.zeros([M,4],dtype=np.double)\n",
    "map[:,3] = 1\n",
    "\n",
    "#Landmarks at time t=0\n",
    "zt = set()\n",
    "zt.union(list(np.squeeze(np.where(features20[0,:,0] != -1))))\n",
    "mcam = initialLandmarks(np.squeeze(features20[:,zt[0],0]))\n",
    "mcam = mcam.astype(np.double)\n",
    "map[zt[0]] = ((PoseSL[0]@(imu_T_cam)@mcam).T)\n",
    "map_vec = np.reshape(np.delete(map,3,axis=1),[3*M,1]) #flattened world frame coordinates\n",
    "map_vec = map_vec.astype(np.double)\n",
    "\n",
    "cam_T_imu = inversePose(imu_T_cam)\n",
    "cam_T_imu = cam_T_imu.astype(np.double)\n",
    "\n",
    "for t in tqdm(range(1,5)):\n",
    "    #Prediction Step\n",
    "    PoseSL[t] = PoseSL[t-1]@expm(pose_increment[t])\n",
    "    F = pose2adpose(axangle2pose(sd[t])) \n",
    "\n",
    "    print(ut[t])\n",
    "   \n",
    "    PoseVarSL[t] = F @PoseVarSL[t-1]@ F.T + NoiseSL\n",
    "    # print(PoseSL[t])\n",
    "    SigmaSL[-6:,-6:] = PoseVarSL[t]\n",
    "    SigmaSL[:3*M,3*M:3*M+6] = SigmaSL[:3*M,3*M:3*M+6] @ F.T\n",
    "    SigmaSL[3*M:,:3*M] = SigmaSL[:3*M,3*M:3*M+6].T \n",
    "    IPoset = inversePose(PoseSL[t])\n",
    "\n",
    "    #Read valid indices\n",
    "    zt.union(list(np.squeeze(np.where(features20[0,:,t] != -1))))\n",
    "    # print(zt)\n",
    "    Nt = np.size(zt[t])\n",
    "    if(Nt == 1):\n",
    "        continue\n",
    "\n",
    "    # Landmark initialization\n",
    "    new_ele = np.setdiff1d(zt[t],zt[t-1])\n",
    "    inter_ele = np.intersect1d(zt[t],zt[t-1])\n",
    "    mcam = initialLandmarks(np.squeeze(features20[:,new_ele,t]))\n",
    "    Nt = np.size(inter_ele)\n",
    "    # print(new_ele)\n",
    "    # print(Nt)\n",
    "    map[new_ele] = ((PoseSL[t]@(imu_T_cam)@mcam).T) \n",
    "    print(zt[t])\n",
    "    ztold = zt[t][inter_ele]\n",
    "    print(ztold)\n",
    "    #Innovation\n",
    "    # obs1 = (Ks@(projection(((inversePose(imu_T_cam)@inversePose(PoseSL[t]))@(map[zt[t]].T)).T).T))\n",
    "    obs1 = Ks@(projection(((cam_T_imu @IPoset) @(map[zt[t]].T)).T).T)\n",
    "    innovation = np.squeeze(features20[:,zt[t],t]) - obs1\n",
    "    # print(innovation)\n",
    "    #Jacobian\n",
    "    H = np.zeros([4*Nt,3*M + 6])\n",
    "    \n",
    "    for i in range(Nt):\n",
    "        index = ztold[i]\n",
    "        # print(index)\n",
    "        H[i*4:i*4+4,index*3:index*3+3] = Ks @projectionJacobian(cam_T_imu @ IPoset @ map[zt[t][i]]) @cam_T_imu @IPoset @(P.T)\n",
    "        H[i*4:i*4+4,-6:] = -Ks @projectionJacobian(cam_T_imu @IPoset @map[zt[t][i]]) @cam_T_imu @circleDot(IPoset @map[zt[t][i]])\n",
    "    # print(Nt)\n",
    "    # print(H[:,-6:])\n",
    "    # V = np.eye(4*Nt)*4\n",
    "\n",
    "    # #Update Step\n",
    "    # # print(KalmanGain.shape, SigmaSL.shape, H.shape)\n",
    "    # map_vec = np.reshape(map[:,:-1], [3*M, 1])\n",
    "    # if (np.linalg.det(H @ SigmaSL @H.T + V) == 0):\n",
    "    #     continue\n",
    "    # KalmanGainSL = SigmaSL @ H.T @ (np.linalg.inv(H @ SigmaSL @H.T + V)) \n",
    "\n",
    "    # # KalmanGain_pos = SigmaSL[-6:,-6:] @ H[:,-6:].T @ (np.linalg.inv(H[:,-6:] @ SigmaSL[-6:,-6:] @H[:,-6:].T + V)) \n",
    "    \n",
    "    # SigmaSL = (np.eye(3*M + 6) - KalmanGainSL@H)@SigmaSL\n",
    "    # PoseVarSL[t] = SigmaSL[-6:,-6:]\n",
    "    # map_vec = map_vec + KalmanGainSL[:-6,:]@(np.reshape(innovation,[KalmanGainSL.shape[1],1]))\n",
    "    # map = np.concatenate((np.reshape(map_vec,[M,3]),np.ones([M,1])),axis=1)\n",
    "    # # print(map)\n",
    "    \n",
    "    # PoseSL[t] = PoseSL[t]@expm(axangle2twist((KalmanGainSL@np.reshape(innovation,KalmanGainSL.shape[1]))[-6:]))\n",
    "    "
   ]
  },
  {
   "cell_type": "code",
   "execution_count": 84,
   "metadata": {},
   "outputs": [
    {
     "data": {
      "text/plain": [
       "array([[ 5.04e-01,  1.72e-04,  1.20e-04,  6.88e-06, -2.27e-03,  3.26e-03],\n",
       "       [ 1.72e-04,  5.05e-01, -1.47e-05,  2.31e-03, -2.51e-05,  2.66e-02],\n",
       "       [ 1.20e-04, -1.47e-05,  5.05e-01, -3.23e-03, -2.66e-02, -2.30e-05],\n",
       "       [ 6.88e-06,  2.31e-03, -3.23e-03,  5.04e-01, -2.79e-17, -3.33e-17],\n",
       "       [-2.27e-03, -2.51e-05, -2.66e-02, -2.79e-17,  5.04e-01, -2.75e-17],\n",
       "       [ 3.26e-03,  2.66e-02, -2.30e-05, -3.31e-17, -2.75e-17,  5.04e-01]])"
      ]
     },
     "execution_count": 84,
     "metadata": {},
     "output_type": "execute_result"
    }
   ],
   "source": [
    "np.set_printoptions(2)\n",
    "SigmaSL[-6:,-6:].T"
   ]
  },
  {
   "attachments": {},
   "cell_type": "markdown",
   "metadata": {},
   "source": [
    "### Auxiliary Code"
   ]
  },
  {
   "cell_type": "code",
   "execution_count": 56,
   "metadata": {},
   "outputs": [
    {
     "data": {
      "text/plain": [
       "[<matplotlib.lines.Line2D at 0x1323ddde0>]"
      ]
     },
     "execution_count": 56,
     "metadata": {},
     "output_type": "execute_result"
    },
    {
     "data": {
      "image/png": "[encoded data removed]",
      "text/plain": [
       "<Figure size 640x480 with 1 Axes>"
      ]
     },
     "metadata": {},
     "output_type": "display_data"
    }
   ],
   "source": [
    "plt.scatter(map[:,0],map[:,1],marker='.',color='royalblue')\n",
    "plt.plot(PoseSL[:,0,3],PoseSL[:,1,3],color='red')\n",
    "plt.plot(Pose[:,0,3],Pose[:,1,3],color='green')\n",
    "# plt.xlim([-1100,400])\n",
    "# plt.ylim([-500,300])\n"
   ]
  },
  {
   "cell_type": "code",
   "execution_count": 103,
   "metadata": {},
   "outputs": [
    {
     "data": {
      "text/plain": [
       "array([[ 0.00000000e+00, -8.36699122e-04, -8.43190098e-04,\n",
       "        -3.90228132e-03],\n",
       "       [ 8.36699122e-04,  0.00000000e+00,  1.71632154e-04,\n",
       "         7.09355082e-04],\n",
       "       [ 8.43190098e-04, -1.71632154e-04,  0.00000000e+00,\n",
       "        -8.56505840e-05],\n",
       "       [ 0.00000000e+00,  0.00000000e+00,  0.00000000e+00,\n",
       "         0.00000000e+00]])"
      ]
     },
     "execution_count": 103,
     "metadata": {},
     "output_type": "execute_result"
    }
   ],
   "source": [
    "test = (KalmanGain@np.reshape(innovation,KalmanGain.shape[1]))[-6:]\n",
    "axangle2twist(test)"
   ]
  },
  {
   "cell_type": "code",
   "execution_count": 65,
   "metadata": {},
   "outputs": [
    {
     "data": {
      "text/plain": [
       "(6, 6)"
      ]
     },
     "execution_count": 65,
     "metadata": {},
     "output_type": "execute_result"
    }
   ],
   "source": [
    "(pose2adpose(expm(-pose_increment[t]))@PoseVar[t-1]@pose2adpose(expm(-pose_increment[t])).T)"
   ]
  },
  {
   "cell_type": "code",
   "execution_count": 29,
   "metadata": {},
   "outputs": [],
   "source": [
    "# mapzx = np.zeros([features.shape[1],4])\n",
    "# for t in range(3026):\n",
    "#     idj = np.squeeze(np.where(features[0,:,t] != -1))\n",
    "#     mcamzx = initialLandmarks(np.squeeze(features[:,idj,t]))\n",
    "#     # print(inversePose(imu_T_cam)@mcamzx)\n",
    "#     mapzx[idj] = (Pose[t]@(imu_T_cam)@mcamzx).T"
   ]
  },
  {
   "cell_type": "code",
   "execution_count": 44,
   "metadata": {},
   "outputs": [],
   "source": [
    "# plt.scatter(mapzx[:,0],mapzx[:,1],marker='.',color='red')\n",
    "# plt.plot(Pose[:,0,3],Pose[:,1,3])\n",
    "# plt.xlim([-1200,500])\n",
    "# plt.ylim([-500,200])"
   ]
  },
  {
   "cell_type": "code",
   "execution_count": null,
   "metadata": {},
   "outputs": [],
   "source": []
  },
  {
   "cell_type": "code",
   "execution_count": 131,
   "metadata": {},
   "outputs": [
    {
     "data": {
      "text/plain": [
       "39350.52292221236"
      ]
     },
     "execution_count": 131,
     "metadata": {},
     "output_type": "execute_result"
    }
   ],
   "source": [
    "5374/6762 * 49514\n"
   ]
  },
  {
   "cell_type": "code",
   "execution_count": null,
   "metadata": {},
   "outputs": [],
   "source": []
  }
 ],
 "metadata": {
  "kernelspec": {
   "display_name": "Python 3 (ipykernel)",
   "language": "python",
   "name": "python3"
  },
  "language_info": {
   "codemirror_mode": {
    "name": "ipython",
    "version": 3
   },
   "file_extension": ".py",
   "mimetype": "text/x-python",
   "name": "python",
   "nbconvert_exporter": "python",
   "pygments_lexer": "ipython3",
   "version": "3.10.7"
  },
  "orig_nbformat": 4
 },
 "nbformat": 4,
 "nbformat_minor": 2
}
